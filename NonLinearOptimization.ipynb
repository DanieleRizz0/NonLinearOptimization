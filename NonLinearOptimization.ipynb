{
 "cells": [
  {
   "cell_type": "markdown",
   "id": "6fa57b1f",
   "metadata": {},
   "source": [
    "# Theoretical background"
   ]
  },
  {
   "cell_type": "markdown",
   "id": "77137c90",
   "metadata": {},
   "source": [
    "## Support Vector Machine"
   ]
  },
  {
   "cell_type": "markdown",
   "id": "67a917a7",
   "metadata": {},
   "source": [
    "Support Vector Machine operates by separation, classifying records in a binary form using a linear object that divides two particular classes of observations.  \n",
    "With $ x^{(i)} $ i $-$ th observation, $ y^{(i)} = \\pm 1 $ observation's label and $w$ array of weights, it's possible to define the optimal margin:  \n",
    "  \n",
    "\\begin{equation}\n",
    "\\gamma = \\min_{i} \\frac{y^{(i)}(w^{T}x^{(i)})}{\\|w\\|}\n",
    "\\end{equation}\n",
    "\n",
    "such that:\n",
    "\\begin{equation}\n",
    " y^{(i)}(w^{T}x^{(i)}) \\ge 1 \\; \\forall \\; i\n",
    "\\end{equation}\n",
    "\n",
    "\n",
    "this quantity represents the minimum Euclidean distance between points $ x^{(i)} $ and the hyperplane defined by the vector $ w $. In order for the points to be correctly classified by such a linear object, constraints with margin, called hard margin, equal to one are introduced.\n",
    "\n",
    "A cost function that we can choose to minimize in order to perform a classification according to the oprimal margin is the Squared hinge loss function:  \n",
    "\\begin{equation}\n",
    "L(w,x^{(i)}) = \\frac{1}{2} \\|w\\|^{2} + \\frac{C}{N}\\sum_{i}^{N} \\left( \\max(0, 1 - y^{(i)}(w^{T}\\cdot x^{(i)}))^{2} \\right ) \n",
    "\\end{equation}\n",
    "In this one, in addition to the term characterized by the function $ \\max $ which implies the minimization of the function with the correct classification of the observations, the term $ \\|w\\| $ is included in order to apply the regularization and minimize the values of the parameters $ w $ to counteract the phenomenon of overfitting..  \n",
    "\n",
    "In the case in which the dataset was not linearly separable one can replace the margin introduced in the constraints (2), defined \"hard margin\", with the \"soft margin\", a more permissive margin that allows to penalize in a lesser way the incorrect classification in phase of training. This tolerance is determined inside the function of cost from the hyperparameter $ c $. \n",
    "\n",
    "To deal with cases where non-linear objects are needed, the SVM method can be enriched, thanks to the \"Representer theorem\" and \"Mercer's Theorem\", with what is called the \"Kernel Trick\". With this implementation the SVM method can very effectively project the observations in higher dimensional spaces and search in these dimensions for linear objects able to separate the observations. \n",
    "\n",
    "For simplicity we consider a linearly separable dataset with which we fall back to a binary classification problem."
   ]
  },
  {
   "cell_type": "markdown",
   "id": "f3606741",
   "metadata": {},
   "source": [
    "## Gradient Descent"
   ]
  },
  {
   "cell_type": "markdown",
   "id": "6df5d7c8",
   "metadata": {},
   "source": [
    "\n",
    "When studying the directional derivatives of a differentiable function, it can be shown through Schwarz's inequality that: \n",
    "\\begin{equation}\n",
    "\\frac{\\partial f}{\\partial r}(x_{0}) \\le |\\nabla f(x_{0})| \n",
    "\\end{equation}\n",
    "$ \\forall $ $ r $ verse.\n",
    "\n",
    "That is, the direction that makes the directional derivative maximum is that of the gradient. \n",
    "Because of this result, it is possible to minimize a function iteratively. You calculate the gradient of the function at a particular point and move with a certain step in the opposite direction. This is the principle behind the method called Gradient Descent.\n",
    "\n",
    "Formally we have that, for $N$ observations, we compute the displacement to be made in order to minimize some cost function $L(w)$ as:\n",
    "\n",
    "\\begin{equation}\n",
    "w^{(t+1)} = w^{(t)} - \\eta \\nabla_{w} L(w,x) \n",
    "\\end{equation}\n",
    "\n",
    "When in such a form we speak of \"Batch Gradient Descent\", the use of all points for each iteration cycle makes this method very stable in convergence but, on the other hand, with numerous observations it requires considerable computational effort. Fundamental to a good convergence of the method are the parameter $\\eta$, called \"learning rate\" and the starting point of the values of the vector $w$.  \n",
    "\n",
    "In cases where the number of observations is such that a batch approach is complicated, one can use the \"Mini-Batch Gradient Descent\" method in which for each calculation of the descent step only a certain number of observations are used at a time. In this way the computational burden is lightened but there may be a convergence towards a less stable minimum point. A limiting case of the \"Mini-Batch\" method is the \"Stochastic Gradient Descent\" method in which a single point at a time is used to calculate the gradient and, consequently, the displacement. The latter is widely used within the \"Deep Learning\" in a particular structure called \"Adam\" with which we try to stabilize the search for the minimum rescaling the gradient step by step, so as to have a stable convergence but without overburdening the computational process.  "
   ]
  },
  {
   "cell_type": "markdown",
   "id": "f45fdcc8",
   "metadata": {},
   "source": [
    "## SVM e Gradient Descent"
   ]
  },
  {
   "cell_type": "markdown",
   "id": "c54fb8ea",
   "metadata": {},
   "source": [
    "\n",
    "In order to minimize the quadratic hinge loss function, it is necessary to compute the gradient at the general point $(w,x)$. Since the function $\\max$ is present it is necessary to consider the derivative defined by cases:\n",
    "\n",
    "\\begin{equation}\n",
    "\\nabla_{w}L(w,x) = \\begin{cases} w\\; se\\;\\; 1 - y(w^{T}\\cdot x) \\ge 0\\\\\n",
    "                                 w + 2 \\left( 1 - y(w^{T}\\cdot x) \\right ) yx \\; se\\;\\; 1 - y^{(i)}(w^{T}\\cdot x^{(i)}) < 0\n",
    "\\\\  \\end{cases}\n",
    "\\end{equation}\n",
    "\n",
    "with this derivative it is possible to find a minimum of the cost function with the gradient descent method. With N points for the calculation of the displacement of the vector $w$ it is necessary to consider the learning rate, the summation over the number of observations considered and the factor $\\frac{1}{N}$ present in the cost function (3). "
   ]
  },
  {
   "cell_type": "markdown",
   "id": "38fc7c80",
   "metadata": {},
   "source": [
    "## Simulated Annealing"
   ]
  },
  {
   "cell_type": "markdown",
   "id": "1ba31639",
   "metadata": {},
   "source": [
    "There are different approaches of function minimization that require a less formal approach from the theoretical point of view that are called metaheuristics.\n",
    "\n",
    "A particular metaheuristic is the \"simulated annealing\". With this one tries to minimize the function starting randomly from a starting point and updating it according to the value of the cost function. Once proposed a displacement of this point comes carried out one appraisal of the cost: if inferior then the displacement is carried out, otherwise the displacement assumes a probabilistic nature mediated from one temperature that tends to diminish with to pass of the iterations, rendering less and less probable the displacement towards unfavorable points and tending therefore to one convergence."
   ]
  },
  {
   "cell_type": "markdown",
   "id": "6abf0b44",
   "metadata": {},
   "source": [
    "For temperature we choose a trend inversely proportional to the number of iterations $(t)$:\n",
    "\\begin{equation}\n",
    "T^{(t+1)} = \\frac{T^{(t)}}{1 + t}\n",
    "\\end{equation}  \n",
    "The probability of switching to a solution such that the cost increases is mediated by the Metropolis criterion whereby:\n",
    "\\begin{equation}\n",
    "P = \\exp \\left( -\\frac{f(x_{new})- f(x_{old})}{T} \\right)\n",
    "\\end{equation}  \n"
   ]
  },
  {
   "cell_type": "markdown",
   "id": "ff4d60b9",
   "metadata": {},
   "source": [
    "# Implementation with Python"
   ]
  },
  {
   "cell_type": "markdown",
   "id": "65f5ab33",
   "metadata": {},
   "source": [
    "The Numpy library available for Python contains functions that allow a very efficient and simple handling of the vector operations needed to implement the gradient descent method."
   ]
  },
  {
   "cell_type": "markdown",
   "id": "e4fe7aa8",
   "metadata": {},
   "source": [
    "## Required libraries"
   ]
  },
  {
   "cell_type": "code",
   "execution_count": 1,
   "id": "db4e9544",
   "metadata": {},
   "outputs": [],
   "source": [
    "import pandas as pd \n",
    "import numpy as np\n",
    "import scipy as sc\n",
    "from sklearn.model_selection import train_test_split\n",
    "import matplotlib.pyplot as plt \n",
    "from matplotlib import ticker, cm\n",
    "import seaborn as sns\n",
    "from IPython import display\n",
    "from mlxtend.plotting import plot_decision_regions"
   ]
  },
  {
   "cell_type": "markdown",
   "id": "46261317",
   "metadata": {},
   "source": [
    "## Class definition and methods for SVM"
   ]
  },
  {
   "cell_type": "markdown",
   "id": "a8a07443",
   "metadata": {},
   "source": [
    "The goal is to build a SVM class with which to have objects able to contain datasets and to adapt to them with a training phase and to classify them correctly with support vector machine. "
   ]
  },
  {
   "cell_type": "code",
   "execution_count": 2,
   "id": "a7989fb5",
   "metadata": {},
   "outputs": [],
   "source": [
    "'''author: Daniele Rizzo'''\n",
    "\n",
    "\n",
    "\n",
    "class svm():\n",
    "    \n",
    "    def __init__(self, x, y, w = None):\n",
    "        \n",
    "        '''\n",
    "        Parameters\n",
    "        ------------------------\n",
    "        x: Either Pandas DataFrame or 2D Numpy Array.\n",
    "           Features, vector of ones for the intercept is automatically inserted. \n",
    "        y: Either Pandas DataFrame or 1D Numpy Array.\n",
    "           Target array. \n",
    "        w: list or Numpy array.\n",
    "           Initial weights, by default are randomly assigned. \n",
    "        ------------------------\n",
    "        \n",
    "        '''\n",
    "        \n",
    "        \n",
    "        if (str(type(x)) == \"<class 'pandas.core.frame.DataFrame'>\"):\n",
    "            x = x.to_numpy()\n",
    "            self.x = np.hstack( (np.ones((x.shape[0], 1)), x ) )\n",
    "        else:\n",
    "            self.x = np.hstack( (np.ones((x.shape[0], 1)), x ) )\n",
    "        \n",
    "        \n",
    "        if (str(type(y)) == \"<class 'pandas.core.series.Series'>\"):\n",
    "            y = y.to_numpy()\n",
    "            self.y = y\n",
    "        else:\n",
    "            self.y = y\n",
    "        \n",
    "        \n",
    "        if (w is None):\n",
    "            self.w = np.random.uniform(-3, 3, size=(self.x.shape[1]))\n",
    "        else:\n",
    "            if (len(w) != self.x.shape[1]):\n",
    "                raise AttributeError (f\"Length of array is {len(w)} Length {self.x.shape[1]} is required.\")\n",
    "                \n",
    "            else:\n",
    "                self.w = w\n",
    "        \n",
    "        \n",
    "####################################################################\n",
    "################ Pretty print for attributes #######################\n",
    "####################################################################                \n",
    "        \n",
    "    def pprint(self):\n",
    "        print(\"Parameters: \")\n",
    "        print(self.x[:5,:])\n",
    "        print(\"------\" * len(self.w))\n",
    "        print(\"Target values: \")\n",
    "        print(self.y[:5])\n",
    "        print(\"------\" * len(self.w))\n",
    "        print(\"Weights: \")\n",
    "        print(self.w)\n",
    "\n",
    "        \n",
    "####################################################################\n",
    "################ Gradient descent ##################################\n",
    "####################################################################                \n",
    "\n",
    "                \n",
    "    def gradient_descent(self, nint = 1000, eta = 0.01, tol = 1, c = 1, \n",
    "                         plot = True, stop = None, batch_size = None):\n",
    "      \n",
    "        '''       \n",
    "        Method to fit the model through gradient descent. \n",
    "        With attribute \"live\" it s possible to plot the descent of cost \n",
    "        or norm of gradient increment in real time.\n",
    "        \n",
    "        ------------------------\n",
    "        Parameters\n",
    "        ------------------------\n",
    "        nint: int, default = 1000\n",
    "              Number of epochs.\n",
    "              \n",
    "        eta: float, default = 0.01\n",
    "             Learning rate.\n",
    "             \n",
    "        c: float, default = 1\n",
    "           Coefficient for regularization.   \n",
    "           \n",
    "        tol: float, default = 1\n",
    "           Coefficient for margin.\n",
    "           \n",
    "        plot: str/bool, equals to \"cost\", \"norm\" or bool. default = True\n",
    "              Flag to show or not the \"live\" trend of the cost function\n",
    "              or the L2 norm of the gradient increment dw during the learning.\n",
    "              Bool to show, or not, static plot.\n",
    "              \n",
    "        stop: float, default = None\n",
    "           Threshold to stop the iteration of gradient descent.\n",
    "           \n",
    "        batch_size: int, default = None\n",
    "                    Size of the batch for nano and stochastic gradient descent.\n",
    "                    If equals to None, batch gradient descent will be used.\n",
    "        ------------------------\n",
    "       \n",
    "       '''    \n",
    "        if batch_size != None:\n",
    "            size = self.x.shape[0]//batch_size\n",
    "        else:\n",
    "            size = 1\n",
    "        norm = np.zeros((nint, size))\n",
    "        cost = np.zeros((nint, size))\n",
    "        stop = 0\n",
    "        \n",
    "\n",
    "        for i in range(nint): \n",
    "            \n",
    "            if batch_size == None:\n",
    "                index = np.random.choice(self.x.shape[0], [1,self.x.shape[0]], replace = False)\n",
    "            else:\n",
    "                index = np.random.choice(self.x.shape[0], [size, batch_size], replace = False)\n",
    "            j = 0\n",
    "            \n",
    "            for idx in index:\n",
    "                distance = 1 - self.y * np.dot(self.x, self.w)\n",
    "                distance[distance < 0] = 0\n",
    "                mask = distance > 0\n",
    "            \n",
    "                dw = (c * self.w)  - (tol * (1./len(idx)) * 2 * np.dot(distance[idx] * self.y[idx], self.x[idx,:]))\n",
    "                self.w = self.w - (eta * dw)\n",
    "                norm[i,j] = np.linalg.norm(dw)\n",
    "                cost[i,j] = (c * 0.5 * (np.linalg.norm(self.w))**2) + (tol * (1./len(idx)) * sum(distance**2))\n",
    "\n",
    "\n",
    "                if (stop != None):\n",
    "                    if (norm[i,j] < stop):\n",
    "                        print(\"Stopping criteria invoked!\")\n",
    "                        stop = 1\n",
    "                        print(f\"Iteration number {s}\")\n",
    "                        break\n",
    "                j += 1\n",
    "            if (stop == 1):\n",
    "                break\n",
    "            \n",
    "            \n",
    "################ Visualization #####################################\n",
    "                \n",
    "        \n",
    "        ### Plot of L2 norm of dw ###\n",
    "        if (plot == \"norm\"):\n",
    "            for j in range(nint):\n",
    "                \n",
    "                plt.plot(norm)\n",
    "                \n",
    "                display.clear_output(wait=True)\n",
    "                plt.grid()\n",
    "                    \n",
    "                plt.ylim(0, 1.3*max(norm))\n",
    "                plt.xlim(-1,j+1)\n",
    "                \n",
    "                plt.show()\n",
    "\n",
    "            return self.w\n",
    "                          \n",
    "        ### Plot of cost function ###\n",
    "        if (plot == \"cost\"):\n",
    "            for j in range(nint):\n",
    "                plt.plot(cost)\n",
    "                \n",
    "                display.clear_output(wait=True)\n",
    "                plt.grid()\n",
    "                    \n",
    "                plt.ylim(0, 1.3*max(cost))\n",
    "                plt.xlim(-1,j+1)\n",
    "                \n",
    "                plt.show()\n",
    "                \n",
    "            return self.w\n",
    "                                \n",
    "        if plot == True:\n",
    "            plt.subplot(211)\n",
    "            plt.title(\"Cost on each iteration\")\n",
    "            plt.plot(cost.reshape(-1))\n",
    "            plt.show()\n",
    "            \n",
    "            plt.subplot(212)\n",
    "            plt.title(\"Norm of dw on each iteration\")\n",
    "            plt.plot(norm.reshape(-1))\n",
    "            plt.show()\n",
    "\n",
    "            return self.w\n",
    "        \n",
    "        else:\n",
    "            return self.w\n",
    "        \n",
    "\n",
    "####################################################################        \n",
    "################ Prediction ########################################\n",
    "####################################################################\n",
    "   \n",
    "    def predict(self, X, Y = None, accuracy = False, output = True):\n",
    "        \n",
    "        '''\n",
    "        Method to predict class and get accuracy of the fitted SVM modedl.\n",
    "        \n",
    "        ------------------------\n",
    "        Parameters\n",
    "        ------------------------\n",
    "        X: 2D Numpy Array.\n",
    "           Features of the record to predict.\n",
    "        Y: 1D Numpy Array.\n",
    "           Array with the true target values to get accuracy.\n",
    "        accuracy: bool.\n",
    "           Flag to get accuracy in output.\n",
    "        output: bool.\n",
    "           Flag to get or not the dataframe with predictions and real target values\n",
    "        '''\n",
    "        \n",
    "        predictions = []\n",
    "        X = np.hstack( (np.ones((X.shape[0], 1)), X ) )\n",
    "        predictions = np.sign(np.inner(X,self.w))\n",
    "\n",
    "        \n",
    "        if (accuracy == True):\n",
    "            acc = 0.\n",
    "            for i,j in zip(predictions, Y):\n",
    "                if i == j:\n",
    "                    acc += 1.\n",
    "            print('Accuracy: ', acc/len(predictions) )\n",
    "                \n",
    "        if output:\n",
    "            return pd.DataFrame({\"prediction\" : predictions, \"test\" : Y})\n",
    "        else:\n",
    "            return None\n",
    "                    \n"
   ]
  },
  {
   "cell_type": "markdown",
   "id": "cb76d8ef",
   "metadata": {},
   "source": [
    "## Class and methods definition for simulated annealing"
   ]
  },
  {
   "cell_type": "code",
   "execution_count": 3,
   "id": "33b9c3af",
   "metadata": {},
   "outputs": [],
   "source": [
    "class meta():\n",
    "    \n",
    "    def __init__(self, x, y, w = None):\n",
    "        \n",
    "        '''\n",
    "        Parameters\n",
    "        ------------------------\n",
    "        x: Either Pandas DataFrame or 2D Numpy Array.\n",
    "           Features, vector of ones for the intercept is automatically inserted. \n",
    "        y: Either Pandas DataFrame or 1D Numpy Array.\n",
    "           Target array. \n",
    "        w: list or Numpy array.\n",
    "           Initial weights, by default are randomly assigned. \n",
    "        ------------------------\n",
    "        \n",
    "        '''\n",
    "        \n",
    "        \n",
    "        if ( str(type(x)) == \"<class 'pandas.core.frame.DataFrame'>\"):\n",
    "            x = x.to_numpy()\n",
    "            self.x = np.hstack( (np.ones((x.shape[0], 1)), x ) )\n",
    "        else:\n",
    "            self.x = np.hstack( (np.ones((x.shape[0], 1)), x ) )\n",
    "        \n",
    "        \n",
    "        if ( str(type(y)) == \"<class 'pandas.core.series.Series'>\"):\n",
    "            y = y.to_numpy()\n",
    "            self.y = y\n",
    "        else:\n",
    "            self.y = y\n",
    "        \n",
    "        \n",
    "        if (w == None):\n",
    "            self.w = np.random.uniform(-3, 3, size=(self.x.shape[1]))\n",
    "        else:\n",
    "            if (len(w) != self.x.shape[1]):\n",
    "                raise AttributeError (f\"Length of array is {len(w)} Length {self.x.shape[1]} is required.\")\n",
    "                \n",
    "            else:\n",
    "                self.w = w\n",
    "    \n",
    "    \n",
    "    \n",
    "    \n",
    "    \n",
    "    \n",
    "    def distance(self, w = None):\n",
    "        if (w is None):\n",
    "            return 1 - self.y * np.dot(self.x, self.w)\n",
    "        else:\n",
    "            return 1 - self.y * np.dot(self.x, w)\n",
    "    \n",
    "    \n",
    "    \n",
    "    def cost(self, w = None):\n",
    "        if (w is None):\n",
    "            distance = self.distance()\n",
    "            return (1./self.y.shape[0]) * sum(distance[distance > 0]**2) + 0.5*np.linalg.norm(self.w)**2\n",
    "        else:\n",
    "            distance = self.distance(w)\n",
    "            return (1./self.y.shape[0]) * sum(distance[distance > 0]**2) + 0.5*np.linalg.norm(w)**2\n",
    "    \n",
    "    \n",
    "    \n",
    "    def sim_ann(self, T = 35, nint = 200, eta = 0.05, plot = True, bound = [-3,3]):\n",
    "        best_sol, best_cost = self.w, self.cost()\n",
    "        cost = np.zeros(nint)\n",
    "       \n",
    "        for i in range(nint):\n",
    "            tmp = T/float(i + 1)\n",
    "        \n",
    "            new_sol = best_sol + eta * np.random.uniform(bound[0], bound[1], size=(self.x.shape[1]))\n",
    "            new_cost = self.cost(new_sol)\n",
    "            \n",
    "            diff = new_cost - best_cost\n",
    "            metropolis = np.exp(-diff/tmp)    \n",
    "            \n",
    "            rand = np.random.rand()\n",
    "            \n",
    "            if (diff < 0 or rand < metropolis):\n",
    "                best_sol = new_sol\n",
    "                best_cost = new_cost\n",
    "                \n",
    "            else:\n",
    "                continue\n",
    "            cost[i] = best_cost\n",
    "        \n",
    "        if plot:\n",
    "            plt.title(\"Cost\")\n",
    "            plt.plot(cost)\n",
    "            \n",
    "        self.w = best_sol\n",
    "                \n",
    "        return {\"Solution\":best_sol, \"Cost\":best_cost}"
   ]
  },
  {
   "cell_type": "markdown",
   "id": "fe59beb6",
   "metadata": {},
   "source": [
    "# Application example"
   ]
  },
  {
   "cell_type": "markdown",
   "id": "f42f8c5d",
   "metadata": {},
   "source": [
    "## Iris dataset"
   ]
  },
  {
   "cell_type": "markdown",
   "id": "2a827166",
   "metadata": {},
   "source": [
    "The dataset contains information on morphology given on several samples of different species of the Iris flower. Made famous by Fischer, who published in 1936 an article (\"The Use of Multiple Measurements in Taxonomic Problems\") concerning the possibility of classifying the different species of Iris considering a linear function dependent on the size of the flowers, is often used as a test dataset for statistical machine learning algorithms.  \n",
    "The dataset contains 150 observations and 4 different attributes related to petal and sepal size. Each observation is associated with a particular species.   \n",
    "To perform a classification with support vector machine we convert the species into numerical targets $\\pm 1$ and limit ourselves to a binary classification, Iris-setose vs {Iris-versicolor, iris-virgin}."
   ]
  },
  {
   "cell_type": "code",
   "execution_count": 4,
   "id": "4618bc6c",
   "metadata": {
    "scrolled": false
   },
   "outputs": [],
   "source": [
    "iris = pd.read_csv(\"iris.csv\", index_col =\"Id\")"
   ]
  },
  {
   "cell_type": "code",
   "execution_count": 5,
   "id": "33b80104",
   "metadata": {},
   "outputs": [],
   "source": [
    "iris.loc[iris.Species == 'Iris-setosa', \"Target\"] = 1\n",
    "iris.loc[iris.Species != 'Iris-setosa', \"Target\"] = -1"
   ]
  },
  {
   "cell_type": "code",
   "execution_count": 6,
   "id": "6897d34e",
   "metadata": {},
   "outputs": [
    {
     "data": {
      "text/plain": [
       "Id\n",
       "1    1.0\n",
       "2    1.0\n",
       "3    1.0\n",
       "4    1.0\n",
       "5    1.0\n",
       "Name: Target, dtype: float64"
      ]
     },
     "execution_count": 6,
     "metadata": {},
     "output_type": "execute_result"
    }
   ],
   "source": [
    "iris.Target[:5]"
   ]
  },
  {
   "cell_type": "code",
   "execution_count": 7,
   "id": "26bbcdc1",
   "metadata": {},
   "outputs": [
    {
     "data": {
      "text/html": [
       "<div>\n",
       "<style scoped>\n",
       "    .dataframe tbody tr th:only-of-type {\n",
       "        vertical-align: middle;\n",
       "    }\n",
       "\n",
       "    .dataframe tbody tr th {\n",
       "        vertical-align: top;\n",
       "    }\n",
       "\n",
       "    .dataframe thead th {\n",
       "        text-align: right;\n",
       "    }\n",
       "</style>\n",
       "<table border=\"1\" class=\"dataframe\">\n",
       "  <thead>\n",
       "    <tr style=\"text-align: right;\">\n",
       "      <th></th>\n",
       "      <th>SepalLengthCm</th>\n",
       "      <th>SepalWidthCm</th>\n",
       "      <th>PetalLengthCm</th>\n",
       "      <th>PetalWidthCm</th>\n",
       "      <th>Species</th>\n",
       "      <th>Target</th>\n",
       "    </tr>\n",
       "    <tr>\n",
       "      <th>Id</th>\n",
       "      <th></th>\n",
       "      <th></th>\n",
       "      <th></th>\n",
       "      <th></th>\n",
       "      <th></th>\n",
       "      <th></th>\n",
       "    </tr>\n",
       "  </thead>\n",
       "  <tbody>\n",
       "    <tr>\n",
       "      <th>146</th>\n",
       "      <td>6.7</td>\n",
       "      <td>3.0</td>\n",
       "      <td>5.2</td>\n",
       "      <td>2.3</td>\n",
       "      <td>Iris-virginica</td>\n",
       "      <td>-1.0</td>\n",
       "    </tr>\n",
       "    <tr>\n",
       "      <th>147</th>\n",
       "      <td>6.3</td>\n",
       "      <td>2.5</td>\n",
       "      <td>5.0</td>\n",
       "      <td>1.9</td>\n",
       "      <td>Iris-virginica</td>\n",
       "      <td>-1.0</td>\n",
       "    </tr>\n",
       "    <tr>\n",
       "      <th>148</th>\n",
       "      <td>6.5</td>\n",
       "      <td>3.0</td>\n",
       "      <td>5.2</td>\n",
       "      <td>2.0</td>\n",
       "      <td>Iris-virginica</td>\n",
       "      <td>-1.0</td>\n",
       "    </tr>\n",
       "    <tr>\n",
       "      <th>149</th>\n",
       "      <td>6.2</td>\n",
       "      <td>3.4</td>\n",
       "      <td>5.4</td>\n",
       "      <td>2.3</td>\n",
       "      <td>Iris-virginica</td>\n",
       "      <td>-1.0</td>\n",
       "    </tr>\n",
       "    <tr>\n",
       "      <th>150</th>\n",
       "      <td>5.9</td>\n",
       "      <td>3.0</td>\n",
       "      <td>5.1</td>\n",
       "      <td>1.8</td>\n",
       "      <td>Iris-virginica</td>\n",
       "      <td>-1.0</td>\n",
       "    </tr>\n",
       "  </tbody>\n",
       "</table>\n",
       "</div>"
      ],
      "text/plain": [
       "     SepalLengthCm  SepalWidthCm  PetalLengthCm  PetalWidthCm         Species  \\\n",
       "Id                                                                              \n",
       "146            6.7           3.0            5.2           2.3  Iris-virginica   \n",
       "147            6.3           2.5            5.0           1.9  Iris-virginica   \n",
       "148            6.5           3.0            5.2           2.0  Iris-virginica   \n",
       "149            6.2           3.4            5.4           2.3  Iris-virginica   \n",
       "150            5.9           3.0            5.1           1.8  Iris-virginica   \n",
       "\n",
       "     Target  \n",
       "Id           \n",
       "146    -1.0  \n",
       "147    -1.0  \n",
       "148    -1.0  \n",
       "149    -1.0  \n",
       "150    -1.0  "
      ]
     },
     "execution_count": 7,
     "metadata": {},
     "output_type": "execute_result"
    }
   ],
   "source": [
    "iris.tail()"
   ]
  },
  {
   "cell_type": "code",
   "execution_count": 8,
   "id": "1beeedb8",
   "metadata": {
    "scrolled": true
   },
   "outputs": [
    {
     "data": {
      "text/html": [
       "<div>\n",
       "<style scoped>\n",
       "    .dataframe tbody tr th:only-of-type {\n",
       "        vertical-align: middle;\n",
       "    }\n",
       "\n",
       "    .dataframe tbody tr th {\n",
       "        vertical-align: top;\n",
       "    }\n",
       "\n",
       "    .dataframe thead th {\n",
       "        text-align: right;\n",
       "    }\n",
       "</style>\n",
       "<table border=\"1\" class=\"dataframe\">\n",
       "  <thead>\n",
       "    <tr style=\"text-align: right;\">\n",
       "      <th></th>\n",
       "      <th>SepalLengthCm</th>\n",
       "      <th>SepalWidthCm</th>\n",
       "      <th>PetalLengthCm</th>\n",
       "      <th>PetalWidthCm</th>\n",
       "      <th>Species</th>\n",
       "      <th>Target</th>\n",
       "    </tr>\n",
       "    <tr>\n",
       "      <th>Id</th>\n",
       "      <th></th>\n",
       "      <th></th>\n",
       "      <th></th>\n",
       "      <th></th>\n",
       "      <th></th>\n",
       "      <th></th>\n",
       "    </tr>\n",
       "  </thead>\n",
       "  <tbody>\n",
       "    <tr>\n",
       "      <th>1</th>\n",
       "      <td>5.1</td>\n",
       "      <td>3.5</td>\n",
       "      <td>1.4</td>\n",
       "      <td>0.2</td>\n",
       "      <td>Iris-setosa</td>\n",
       "      <td>1.0</td>\n",
       "    </tr>\n",
       "    <tr>\n",
       "      <th>2</th>\n",
       "      <td>4.9</td>\n",
       "      <td>3.0</td>\n",
       "      <td>1.4</td>\n",
       "      <td>0.2</td>\n",
       "      <td>Iris-setosa</td>\n",
       "      <td>1.0</td>\n",
       "    </tr>\n",
       "    <tr>\n",
       "      <th>3</th>\n",
       "      <td>4.7</td>\n",
       "      <td>3.2</td>\n",
       "      <td>1.3</td>\n",
       "      <td>0.2</td>\n",
       "      <td>Iris-setosa</td>\n",
       "      <td>1.0</td>\n",
       "    </tr>\n",
       "    <tr>\n",
       "      <th>4</th>\n",
       "      <td>4.6</td>\n",
       "      <td>3.1</td>\n",
       "      <td>1.5</td>\n",
       "      <td>0.2</td>\n",
       "      <td>Iris-setosa</td>\n",
       "      <td>1.0</td>\n",
       "    </tr>\n",
       "    <tr>\n",
       "      <th>5</th>\n",
       "      <td>5.0</td>\n",
       "      <td>3.6</td>\n",
       "      <td>1.4</td>\n",
       "      <td>0.2</td>\n",
       "      <td>Iris-setosa</td>\n",
       "      <td>1.0</td>\n",
       "    </tr>\n",
       "  </tbody>\n",
       "</table>\n",
       "</div>"
      ],
      "text/plain": [
       "    SepalLengthCm  SepalWidthCm  PetalLengthCm  PetalWidthCm      Species  \\\n",
       "Id                                                                          \n",
       "1             5.1           3.5            1.4           0.2  Iris-setosa   \n",
       "2             4.9           3.0            1.4           0.2  Iris-setosa   \n",
       "3             4.7           3.2            1.3           0.2  Iris-setosa   \n",
       "4             4.6           3.1            1.5           0.2  Iris-setosa   \n",
       "5             5.0           3.6            1.4           0.2  Iris-setosa   \n",
       "\n",
       "    Target  \n",
       "Id          \n",
       "1      1.0  \n",
       "2      1.0  \n",
       "3      1.0  \n",
       "4      1.0  \n",
       "5      1.0  "
      ]
     },
     "execution_count": 8,
     "metadata": {},
     "output_type": "execute_result"
    }
   ],
   "source": [
    "iris.head()"
   ]
  },
  {
   "cell_type": "code",
   "execution_count": 9,
   "id": "24c43064",
   "metadata": {},
   "outputs": [],
   "source": [
    "x = iris[iris.columns[:4]]"
   ]
  },
  {
   "cell_type": "code",
   "execution_count": 10,
   "id": "9c50a65c",
   "metadata": {},
   "outputs": [],
   "source": [
    "y = iris[iris.columns[5]]"
   ]
  },
  {
   "cell_type": "markdown",
   "id": "2d2070a0",
   "metadata": {},
   "source": [
    "To perform a learning phase of the model and verify its goodness, a holdout validation is used. It uses the function `train_test_split` present inside the library `SKLearn` that allows to generate randomly a set `test` and one `train` with a dimension of the test set equal to a third of the complete dataset. "
   ]
  },
  {
   "cell_type": "code",
   "execution_count": 11,
   "id": "8cd3d020",
   "metadata": {},
   "outputs": [],
   "source": [
    "x_train, x_test, y_train, y_test = train_test_split(x, y, shuffle = True, test_size = 0.33)"
   ]
  },
  {
   "cell_type": "code",
   "execution_count": 12,
   "id": "0045d816",
   "metadata": {},
   "outputs": [
    {
     "data": {
      "text/html": [
       "<div>\n",
       "<style scoped>\n",
       "    .dataframe tbody tr th:only-of-type {\n",
       "        vertical-align: middle;\n",
       "    }\n",
       "\n",
       "    .dataframe tbody tr th {\n",
       "        vertical-align: top;\n",
       "    }\n",
       "\n",
       "    .dataframe thead th {\n",
       "        text-align: right;\n",
       "    }\n",
       "</style>\n",
       "<table border=\"1\" class=\"dataframe\">\n",
       "  <thead>\n",
       "    <tr style=\"text-align: right;\">\n",
       "      <th></th>\n",
       "      <th>SepalLengthCm</th>\n",
       "      <th>SepalWidthCm</th>\n",
       "      <th>PetalLengthCm</th>\n",
       "      <th>PetalWidthCm</th>\n",
       "    </tr>\n",
       "    <tr>\n",
       "      <th>Id</th>\n",
       "      <th></th>\n",
       "      <th></th>\n",
       "      <th></th>\n",
       "      <th></th>\n",
       "    </tr>\n",
       "  </thead>\n",
       "  <tbody>\n",
       "    <tr>\n",
       "      <th>131</th>\n",
       "      <td>7.4</td>\n",
       "      <td>2.8</td>\n",
       "      <td>6.1</td>\n",
       "      <td>1.9</td>\n",
       "    </tr>\n",
       "    <tr>\n",
       "      <th>27</th>\n",
       "      <td>5.0</td>\n",
       "      <td>3.4</td>\n",
       "      <td>1.6</td>\n",
       "      <td>0.4</td>\n",
       "    </tr>\n",
       "    <tr>\n",
       "      <th>102</th>\n",
       "      <td>5.8</td>\n",
       "      <td>2.7</td>\n",
       "      <td>5.1</td>\n",
       "      <td>1.9</td>\n",
       "    </tr>\n",
       "    <tr>\n",
       "      <th>42</th>\n",
       "      <td>4.5</td>\n",
       "      <td>2.3</td>\n",
       "      <td>1.3</td>\n",
       "      <td>0.3</td>\n",
       "    </tr>\n",
       "    <tr>\n",
       "      <th>69</th>\n",
       "      <td>6.2</td>\n",
       "      <td>2.2</td>\n",
       "      <td>4.5</td>\n",
       "      <td>1.5</td>\n",
       "    </tr>\n",
       "  </tbody>\n",
       "</table>\n",
       "</div>"
      ],
      "text/plain": [
       "     SepalLengthCm  SepalWidthCm  PetalLengthCm  PetalWidthCm\n",
       "Id                                                           \n",
       "131            7.4           2.8            6.1           1.9\n",
       "27             5.0           3.4            1.6           0.4\n",
       "102            5.8           2.7            5.1           1.9\n",
       "42             4.5           2.3            1.3           0.3\n",
       "69             6.2           2.2            4.5           1.5"
      ]
     },
     "execution_count": 12,
     "metadata": {},
     "output_type": "execute_result"
    }
   ],
   "source": [
    "x_train.head()"
   ]
  },
  {
   "cell_type": "code",
   "execution_count": 13,
   "id": "05d4096d",
   "metadata": {},
   "outputs": [
    {
     "data": {
      "text/plain": [
       "Id\n",
       "131   -1.0\n",
       "27     1.0\n",
       "102   -1.0\n",
       "42     1.0\n",
       "69    -1.0\n",
       "Name: Target, dtype: float64"
      ]
     },
     "execution_count": 13,
     "metadata": {},
     "output_type": "execute_result"
    }
   ],
   "source": [
    "y_train.head()"
   ]
  },
  {
   "cell_type": "markdown",
   "id": "036b08a2",
   "metadata": {},
   "source": [
    "## Batch gradient Descent"
   ]
  },
  {
   "cell_type": "markdown",
   "id": "d67dc9e6",
   "metadata": {},
   "source": [
    "### Model construction and validation"
   ]
  },
  {
   "cell_type": "markdown",
   "id": "0b195968",
   "metadata": {},
   "source": [
    "We define the first model with random initial parameters"
   ]
  },
  {
   "cell_type": "code",
   "execution_count": 14,
   "id": "066c9c5a",
   "metadata": {},
   "outputs": [],
   "source": [
    "model1 = svm(x_train, y_train)"
   ]
  },
  {
   "cell_type": "markdown",
   "id": "dcbadf8f",
   "metadata": {},
   "source": [
    "Thanks to the `pprint()` method defined for the `svm` class it is possible to have an overview of the main attributes"
   ]
  },
  {
   "cell_type": "code",
   "execution_count": 15,
   "id": "ac1c8dce",
   "metadata": {
    "scrolled": true
   },
   "outputs": [
    {
     "name": "stdout",
     "output_type": "stream",
     "text": [
      "Parameters: \n",
      "[[1.  7.4 2.8 6.1 1.9]\n",
      " [1.  5.  3.4 1.6 0.4]\n",
      " [1.  5.8 2.7 5.1 1.9]\n",
      " [1.  4.5 2.3 1.3 0.3]\n",
      " [1.  6.2 2.2 4.5 1.5]]\n",
      "------------------------------\n",
      "Target values: \n",
      "[-1.  1. -1.  1. -1.]\n",
      "------------------------------\n",
      "Weights: \n",
      "[-0.93573811 -2.26134222  0.29315436  2.96315949 -0.16998134]\n"
     ]
    }
   ],
   "source": [
    "model1.pprint()"
   ]
  },
  {
   "cell_type": "markdown",
   "id": "d05832e0",
   "metadata": {},
   "source": [
    "The training phase of `model1` is now carried out with the Batch gradient Descent method with a number of iterations $nint = 4000$ and learning rate $eta = 0.01$, by default the learning is done with regularization in order to counteract the phenomena of overfitting minimizing the norm $|w|$."
   ]
  },
  {
   "cell_type": "code",
   "execution_count": 16,
   "id": "0018d60c",
   "metadata": {
    "scrolled": false
   },
   "outputs": [
    {
     "data": {
      "image/png": "[encoded data removed]",
      "text/plain": [
       "<Figure size 432x288 with 1 Axes>"
      ]
     },
     "metadata": {
      "needs_background": "light"
     },
     "output_type": "display_data"
    },
    {
     "data": {
      "image/png": "[encoded data removed]",
      "text/plain": [
       "<Figure size 432x288 with 1 Axes>"
      ]
     },
     "metadata": {
      "needs_background": "light"
     },
     "output_type": "display_data"
    },
    {
     "data": {
      "text/plain": [
       "array([ 0.04634437,  0.07194583,  0.24325662, -0.38414836, -0.16705861])"
      ]
     },
     "execution_count": 16,
     "metadata": {},
     "output_type": "execute_result"
    }
   ],
   "source": [
    "model1.gradient_descent(nint = 4000, eta = 0.01)"
   ]
  },
  {
   "cell_type": "markdown",
   "id": "7fd37295",
   "metadata": {},
   "source": [
    "It can be observed that the cost and the norm $\\|w\\|$ descend very quickly and beyond the five hundredth iteration no particular trends are noticeable. "
   ]
  },
  {
   "cell_type": "markdown",
   "id": "5e62b617",
   "metadata": {},
   "source": [
    "To verify the goodness of the model an evaluation of the accuracy is carried out with the method `predict`. For completeness an appraisal of the error is carried out is carried out is on the train that on the test set."
   ]
  },
  {
   "cell_type": "code",
   "execution_count": 17,
   "id": "6da2bdc3",
   "metadata": {},
   "outputs": [
    {
     "name": "stdout",
     "output_type": "stream",
     "text": [
      "Accuracy:  1.0\n"
     ]
    },
    {
     "data": {
      "text/html": [
       "<div>\n",
       "<style scoped>\n",
       "    .dataframe tbody tr th:only-of-type {\n",
       "        vertical-align: middle;\n",
       "    }\n",
       "\n",
       "    .dataframe tbody tr th {\n",
       "        vertical-align: top;\n",
       "    }\n",
       "\n",
       "    .dataframe thead th {\n",
       "        text-align: right;\n",
       "    }\n",
       "</style>\n",
       "<table border=\"1\" class=\"dataframe\">\n",
       "  <thead>\n",
       "    <tr style=\"text-align: right;\">\n",
       "      <th></th>\n",
       "      <th>prediction</th>\n",
       "      <th>test</th>\n",
       "    </tr>\n",
       "    <tr>\n",
       "      <th>Id</th>\n",
       "      <th></th>\n",
       "      <th></th>\n",
       "    </tr>\n",
       "  </thead>\n",
       "  <tbody>\n",
       "    <tr>\n",
       "      <th>28</th>\n",
       "      <td>1.0</td>\n",
       "      <td>1.0</td>\n",
       "    </tr>\n",
       "    <tr>\n",
       "      <th>71</th>\n",
       "      <td>-1.0</td>\n",
       "      <td>-1.0</td>\n",
       "    </tr>\n",
       "    <tr>\n",
       "      <th>149</th>\n",
       "      <td>-1.0</td>\n",
       "      <td>-1.0</td>\n",
       "    </tr>\n",
       "    <tr>\n",
       "      <th>52</th>\n",
       "      <td>-1.0</td>\n",
       "      <td>-1.0</td>\n",
       "    </tr>\n",
       "    <tr>\n",
       "      <th>20</th>\n",
       "      <td>1.0</td>\n",
       "      <td>1.0</td>\n",
       "    </tr>\n",
       "  </tbody>\n",
       "</table>\n",
       "</div>"
      ],
      "text/plain": [
       "     prediction  test\n",
       "Id                   \n",
       "28          1.0   1.0\n",
       "71         -1.0  -1.0\n",
       "149        -1.0  -1.0\n",
       "52         -1.0  -1.0\n",
       "20          1.0   1.0"
      ]
     },
     "execution_count": 17,
     "metadata": {},
     "output_type": "execute_result"
    }
   ],
   "source": [
    "model1.predict(x_test, y_test, accuracy = True).head()"
   ]
  },
  {
   "cell_type": "code",
   "execution_count": 18,
   "id": "3a5fde64",
   "metadata": {
    "scrolled": true
   },
   "outputs": [
    {
     "name": "stdout",
     "output_type": "stream",
     "text": [
      "Accuracy:  1.0\n"
     ]
    },
    {
     "data": {
      "text/html": [
       "<div>\n",
       "<style scoped>\n",
       "    .dataframe tbody tr th:only-of-type {\n",
       "        vertical-align: middle;\n",
       "    }\n",
       "\n",
       "    .dataframe tbody tr th {\n",
       "        vertical-align: top;\n",
       "    }\n",
       "\n",
       "    .dataframe thead th {\n",
       "        text-align: right;\n",
       "    }\n",
       "</style>\n",
       "<table border=\"1\" class=\"dataframe\">\n",
       "  <thead>\n",
       "    <tr style=\"text-align: right;\">\n",
       "      <th></th>\n",
       "      <th>prediction</th>\n",
       "      <th>test</th>\n",
       "    </tr>\n",
       "    <tr>\n",
       "      <th>Id</th>\n",
       "      <th></th>\n",
       "      <th></th>\n",
       "    </tr>\n",
       "  </thead>\n",
       "  <tbody>\n",
       "    <tr>\n",
       "      <th>131</th>\n",
       "      <td>-1.0</td>\n",
       "      <td>-1.0</td>\n",
       "    </tr>\n",
       "    <tr>\n",
       "      <th>27</th>\n",
       "      <td>1.0</td>\n",
       "      <td>1.0</td>\n",
       "    </tr>\n",
       "    <tr>\n",
       "      <th>102</th>\n",
       "      <td>-1.0</td>\n",
       "      <td>-1.0</td>\n",
       "    </tr>\n",
       "    <tr>\n",
       "      <th>42</th>\n",
       "      <td>1.0</td>\n",
       "      <td>1.0</td>\n",
       "    </tr>\n",
       "    <tr>\n",
       "      <th>69</th>\n",
       "      <td>-1.0</td>\n",
       "      <td>-1.0</td>\n",
       "    </tr>\n",
       "  </tbody>\n",
       "</table>\n",
       "</div>"
      ],
      "text/plain": [
       "     prediction  test\n",
       "Id                   \n",
       "131        -1.0  -1.0\n",
       "27          1.0   1.0\n",
       "102        -1.0  -1.0\n",
       "42          1.0   1.0\n",
       "69         -1.0  -1.0"
      ]
     },
     "execution_count": 18,
     "metadata": {},
     "output_type": "execute_result"
    }
   ],
   "source": [
    "model1.predict(x_train, y_train, accuracy = True).head()"
   ]
  },
  {
   "cell_type": "markdown",
   "id": "aa8f9e28",
   "metadata": {},
   "source": [
    "Given accuracy values equal to $1$ we deduce that both generalized and learning errors are zero. These results are peculiar and due to the simplicity of the problem given the particularly suitable dataset. Although the holdout method is particularly sensitive to the choice of train-test partitioning, compared to more structured methods such as iterated holdout and k-fold cross validation, it provides information about the general goodness of the model `model1`."
   ]
  },
  {
   "cell_type": "markdown",
   "id": "350ce42d",
   "metadata": {},
   "source": [
    "### Influenza del punto di inizio"
   ]
  },
  {
   "cell_type": "markdown",
   "id": "8fcd1224",
   "metadata": {},
   "source": [
    "A comparison is now made between model `model1` and a new model `model2` to test the impact of different initial points on the search for the optimal point "
   ]
  },
  {
   "cell_type": "code",
   "execution_count": 19,
   "id": "e6d34657",
   "metadata": {},
   "outputs": [],
   "source": [
    "dummy_weights = [5,10,7,11,1] "
   ]
  },
  {
   "cell_type": "code",
   "execution_count": 20,
   "id": "6d5b12d7",
   "metadata": {},
   "outputs": [],
   "source": [
    "model2 = svm(x_train, y_train, dummy_weights)"
   ]
  },
  {
   "cell_type": "code",
   "execution_count": 21,
   "id": "1a7a4f7e",
   "metadata": {},
   "outputs": [
    {
     "name": "stdout",
     "output_type": "stream",
     "text": [
      "Parameters: \n",
      "[[1.  7.4 2.8 6.1 1.9]\n",
      " [1.  5.  3.4 1.6 0.4]\n",
      " [1.  5.8 2.7 5.1 1.9]\n",
      " [1.  4.5 2.3 1.3 0.3]\n",
      " [1.  6.2 2.2 4.5 1.5]]\n",
      "------------------------------\n",
      "Target values: \n",
      "[-1.  1. -1.  1. -1.]\n",
      "------------------------------\n",
      "Weights: \n",
      "[5, 10, 7, 11, 1]\n"
     ]
    }
   ],
   "source": [
    "model2.pprint()"
   ]
  },
  {
   "cell_type": "code",
   "execution_count": 22,
   "id": "aa20e343",
   "metadata": {
    "scrolled": false
   },
   "outputs": [
    {
     "data": {
      "image/png": "[encoded data removed]",
      "text/plain": [
       "<Figure size 432x288 with 1 Axes>"
      ]
     },
     "metadata": {
      "needs_background": "light"
     },
     "output_type": "display_data"
    },
    {
     "data": {
      "image/png": "[encoded data removed]",
      "text/plain": [
       "<Figure size 432x288 with 1 Axes>"
      ]
     },
     "metadata": {
      "needs_background": "light"
     },
     "output_type": "display_data"
    },
    {
     "data": {
      "text/plain": [
       "array([ 0.10073834,  0.04109818,  0.26322346, -0.35526135, -0.2050693 ])"
      ]
     },
     "execution_count": 22,
     "metadata": {},
     "output_type": "execute_result"
    }
   ],
   "source": [
    "model2.gradient_descent(nint = 400, eta = 0.01)"
   ]
  },
  {
   "cell_type": "code",
   "execution_count": 23,
   "id": "8ed52583",
   "metadata": {},
   "outputs": [
    {
     "name": "stdout",
     "output_type": "stream",
     "text": [
      "Accuracy:  1.0\n"
     ]
    }
   ],
   "source": [
    "model2.predict(x_train, y_train, accuracy = True, output = False)"
   ]
  },
  {
   "cell_type": "code",
   "execution_count": 24,
   "id": "cdedf8cb",
   "metadata": {},
   "outputs": [
    {
     "name": "stdout",
     "output_type": "stream",
     "text": [
      "Accuracy:  1.0\n"
     ]
    }
   ],
   "source": [
    "model2.predict(x_test, y_test, accuracy = True, output = False)"
   ]
  },
  {
   "cell_type": "code",
   "execution_count": 25,
   "id": "ba5fc4b9",
   "metadata": {},
   "outputs": [
    {
     "name": "stdout",
     "output_type": "stream",
     "text": [
      "Model 1\n",
      "[ 0.04634437  0.07194583  0.24325662 -0.38414836 -0.16705861]\n",
      "Model 2\n",
      "[ 0.10073834  0.04109818  0.26322346 -0.35526135 -0.2050693 ]\n"
     ]
    }
   ],
   "source": [
    "print(\"Model 1\")\n",
    "print(model1.w)\n",
    "print(\"Model 2\")\n",
    "print(model2.w)"
   ]
  },
  {
   "cell_type": "markdown",
   "id": "782be1c0",
   "metadata": {},
   "source": [
    "The two solutions are approximately equal and this because despite the different starting points the method `gradient descent` allows to minimize the cost function and to move close to the same optimal point. This is only one of the possible cases since in general with different starting points there is the risk of getting stuck in different local minima."
   ]
  },
  {
   "cell_type": "markdown",
   "id": "47283c3b",
   "metadata": {},
   "source": [
    "### Impatto del learning rate"
   ]
  },
  {
   "cell_type": "markdown",
   "id": "07e66141",
   "metadata": {},
   "source": [
    "In order to appreciate to the best the influence of the various learning installments they are carried out of the learning with only 100 iterations therefore to be able to observe to the best the decrease of the cost."
   ]
  },
  {
   "cell_type": "code",
   "execution_count": 26,
   "id": "138240f3",
   "metadata": {},
   "outputs": [],
   "source": [
    "dummy_weights = [1,1,1,1,1]"
   ]
  },
  {
   "cell_type": "markdown",
   "id": "93ff6444",
   "metadata": {},
   "source": [
    "An initial evaluation is performed with $\\eta = 0.2$. A value that is too high, as in this case, implies a tendency to diverge rather than to tend toward a minimization of the cost function"
   ]
  },
  {
   "cell_type": "code",
   "execution_count": 27,
   "id": "90558a22",
   "metadata": {},
   "outputs": [
    {
     "data": {
      "image/png": "[encoded data removed]",
      "text/plain": [
       "<Figure size 432x288 with 1 Axes>"
      ]
     },
     "metadata": {
      "needs_background": "light"
     },
     "output_type": "display_data"
    },
    {
     "data": {
      "image/png": "[encoded data removed]",
      "text/plain": [
       "<Figure size 432x288 with 1 Axes>"
      ]
     },
     "metadata": {
      "needs_background": "light"
     },
     "output_type": "display_data"
    },
    {
     "name": "stdout",
     "output_type": "stream",
     "text": [
      "[3.56471125e+90 1.71693288e+91 1.26070980e+91 3.15343763e+90\n",
      " 6.12835394e+88]\n",
      "Accuracy:  0.4\n"
     ]
    }
   ],
   "source": [
    "model3 = svm(x_train, y_train, dummy_weights)\n",
    "print(model3.gradient_descent(nint = 100, eta = 0.2))\n",
    "model3.predict(x_test, y_test, accuracy = True, output = False)"
   ]
  },
  {
   "cell_type": "markdown",
   "id": "0c8508f3",
   "metadata": {},
   "source": [
    "A reduction of $\\eta = 0.06$ allows for convergence of the gradient descent albeit with major swings in the cost function before stabilizing. This value, as indicated by the accuracy value, allows convergence to a point of minimum"
   ]
  },
  {
   "cell_type": "code",
   "execution_count": 28,
   "id": "dc4cd6ea",
   "metadata": {},
   "outputs": [
    {
     "data": {
      "image/png": "[encoded data removed]",
      "text/plain": [
       "<Figure size 432x288 with 1 Axes>"
      ]
     },
     "metadata": {
      "needs_background": "light"
     },
     "output_type": "display_data"
    },
    {
     "data": {
      "image/png": "[encoded data removed]",
      "text/plain": [
       "<Figure size 432x288 with 1 Axes>"
      ]
     },
     "metadata": {
      "needs_background": "light"
     },
     "output_type": "display_data"
    },
    {
     "name": "stdout",
     "output_type": "stream",
     "text": [
      "[ 0.09334694  0.12959672  0.45544766 -0.76079754 -0.34288954]\n",
      "Accuracy:  1.0\n"
     ]
    }
   ],
   "source": [
    "model3 = svm(x_train, y_train, dummy_weights)\n",
    "print(model3.gradient_descent(nint = 100, eta = 0.06))\n",
    "model3.predict(x_test, y_test, accuracy = True, output = False)"
   ]
  },
  {
   "cell_type": "markdown",
   "id": "70963d8e",
   "metadata": {},
   "source": [
    "Reducing further the value, $\\eta = 0.02$ the decrease of the cost function is softer and stable without particular structures "
   ]
  },
  {
   "cell_type": "code",
   "execution_count": 29,
   "id": "601be2fa",
   "metadata": {},
   "outputs": [
    {
     "data": {
      "image/png": "[encoded data removed]",
      "text/plain": [
       "<Figure size 432x288 with 1 Axes>"
      ]
     },
     "metadata": {
      "needs_background": "light"
     },
     "output_type": "display_data"
    },
    {
     "data": {
      "image/png": "[encoded data removed]",
      "text/plain": [
       "<Figure size 432x288 with 1 Axes>"
      ]
     },
     "metadata": {
      "needs_background": "light"
     },
     "output_type": "display_data"
    },
    {
     "name": "stdout",
     "output_type": "stream",
     "text": [
      "[ 0.1501919   0.02474948  0.28126226 -0.39359727 -0.08952565]\n",
      "Accuracy:  1.0\n"
     ]
    }
   ],
   "source": [
    "### learning rate = 0.02 ###\n",
    "model3 = svm(x_train, y_train, dummy_weights)\n",
    "print(model3.gradient_descent(nint = 100, eta = 0.02))\n",
    "model3.predict(x_test, y_test, accuracy = True, output = False)"
   ]
  },
  {
   "cell_type": "markdown",
   "id": "2e0b0dd2",
   "metadata": {},
   "source": [
    "An excessively low value of $eta$ can make the descent too fine and consequently a very high number of iterations would be necessary to reach a minimum point similar to that found with an optimal value of $eta$.  \n",
    "It can be seen in fact that with $eta = 0.0008$ and an equal number of iterations, we obtain a considerably lower accuracy value."
   ]
  },
  {
   "cell_type": "code",
   "execution_count": 30,
   "id": "a90b561d",
   "metadata": {},
   "outputs": [
    {
     "data": {
      "image/png": "[encoded data removed]",
      "text/plain": [
       "<Figure size 432x288 with 1 Axes>"
      ]
     },
     "metadata": {
      "needs_background": "light"
     },
     "output_type": "display_data"
    },
    {
     "data": {
      "image/png": "[encoded data removed]",
      "text/plain": [
       "<Figure size 432x288 with 1 Axes>"
      ]
     },
     "metadata": {
      "needs_background": "light"
     },
     "output_type": "display_data"
    },
    {
     "name": "stdout",
     "output_type": "stream",
     "text": [
      "[ 0.72668692 -0.37305393  0.36652431 -0.20480217  0.52004579]\n",
      "Accuracy:  0.74\n"
     ]
    }
   ],
   "source": [
    "model3 = svm(x_train, y_train, dummy_weights)\n",
    "print(model3.gradient_descent(nint = 100, eta = 0.0008))\n",
    "model3.predict(x_test, y_test, accuracy = True, output = False)"
   ]
  },
  {
   "cell_type": "markdown",
   "id": "e9d14d83",
   "metadata": {},
   "source": [
    "#### Evaluation on graphically representable problem"
   ]
  },
  {
   "cell_type": "markdown",
   "id": "aec76a73",
   "metadata": {},
   "source": [
    "To further this comparison we perform the evaluation of these models on a different classification problem that allows to visualize the proposed solution. Again referring to the `iris` dataset, only the two features related to petal size are considered and new train and test sets are constructed."
   ]
  },
  {
   "cell_type": "code",
   "execution_count": 36,
   "id": "afd95fb5",
   "metadata": {},
   "outputs": [],
   "source": [
    "x2 = iris[iris.columns[2:4]]"
   ]
  },
  {
   "cell_type": "code",
   "execution_count": 37,
   "id": "4a72b214",
   "metadata": {},
   "outputs": [],
   "source": [
    "y2 = iris[iris.columns[5]]"
   ]
  },
  {
   "cell_type": "code",
   "execution_count": 38,
   "id": "99505f39",
   "metadata": {},
   "outputs": [],
   "source": [
    "x_train2, x_test2, y_train2, y_test2 = train_test_split(x2, y2, shuffle = True, test_size = 0.33)"
   ]
  },
  {
   "cell_type": "code",
   "execution_count": 39,
   "id": "8241b7e3",
   "metadata": {},
   "outputs": [
    {
     "data": {
      "text/html": [
       "<div>\n",
       "<style scoped>\n",
       "    .dataframe tbody tr th:only-of-type {\n",
       "        vertical-align: middle;\n",
       "    }\n",
       "\n",
       "    .dataframe tbody tr th {\n",
       "        vertical-align: top;\n",
       "    }\n",
       "\n",
       "    .dataframe thead th {\n",
       "        text-align: right;\n",
       "    }\n",
       "</style>\n",
       "<table border=\"1\" class=\"dataframe\">\n",
       "  <thead>\n",
       "    <tr style=\"text-align: right;\">\n",
       "      <th></th>\n",
       "      <th>PetalLengthCm</th>\n",
       "      <th>PetalWidthCm</th>\n",
       "    </tr>\n",
       "    <tr>\n",
       "      <th>Id</th>\n",
       "      <th></th>\n",
       "      <th></th>\n",
       "    </tr>\n",
       "  </thead>\n",
       "  <tbody>\n",
       "    <tr>\n",
       "      <th>11</th>\n",
       "      <td>1.5</td>\n",
       "      <td>0.2</td>\n",
       "    </tr>\n",
       "    <tr>\n",
       "      <th>44</th>\n",
       "      <td>1.6</td>\n",
       "      <td>0.6</td>\n",
       "    </tr>\n",
       "    <tr>\n",
       "      <th>5</th>\n",
       "      <td>1.4</td>\n",
       "      <td>0.2</td>\n",
       "    </tr>\n",
       "    <tr>\n",
       "      <th>4</th>\n",
       "      <td>1.5</td>\n",
       "      <td>0.2</td>\n",
       "    </tr>\n",
       "    <tr>\n",
       "      <th>62</th>\n",
       "      <td>4.2</td>\n",
       "      <td>1.5</td>\n",
       "    </tr>\n",
       "  </tbody>\n",
       "</table>\n",
       "</div>"
      ],
      "text/plain": [
       "    PetalLengthCm  PetalWidthCm\n",
       "Id                             \n",
       "11            1.5           0.2\n",
       "44            1.6           0.6\n",
       "5             1.4           0.2\n",
       "4             1.5           0.2\n",
       "62            4.2           1.5"
      ]
     },
     "execution_count": 39,
     "metadata": {},
     "output_type": "execute_result"
    }
   ],
   "source": [
    "x_train2.head()"
   ]
  },
  {
   "cell_type": "code",
   "execution_count": 40,
   "id": "a7fb702e",
   "metadata": {},
   "outputs": [
    {
     "data": {
      "text/plain": [
       "Id\n",
       "11    1.0\n",
       "44    1.0\n",
       "5     1.0\n",
       "4     1.0\n",
       "62   -1.0\n",
       "Name: Target, dtype: float64"
      ]
     },
     "execution_count": 40,
     "metadata": {},
     "output_type": "execute_result"
    }
   ],
   "source": [
    "y_train2.head()"
   ]
  },
  {
   "cell_type": "code",
   "execution_count": 41,
   "id": "bd406132",
   "metadata": {},
   "outputs": [],
   "source": [
    "model_petal = svm(x_train2, y_train2)"
   ]
  },
  {
   "cell_type": "code",
   "execution_count": 42,
   "id": "ec193bf7",
   "metadata": {},
   "outputs": [
    {
     "data": {
      "text/plain": [
       "array([ 3.72058006, -1.29904818, -0.72620598])"
      ]
     },
     "execution_count": 42,
     "metadata": {},
     "output_type": "execute_result"
    }
   ],
   "source": [
    "model_petal.gradient_descent(nint = 40000, eta = 0.001, c = 0, tol = 20, plot = False)"
   ]
  },
  {
   "cell_type": "markdown",
   "id": "450f12ed",
   "metadata": {},
   "source": [
    "We evaluate the accuracy of this model"
   ]
  },
  {
   "cell_type": "code",
   "execution_count": 43,
   "id": "e3337d89",
   "metadata": {},
   "outputs": [
    {
     "name": "stdout",
     "output_type": "stream",
     "text": [
      "Accuracy:  1.0\n"
     ]
    }
   ],
   "source": [
    "model_petal.predict(x_test2, y_test2, accuracy = True, output = False)"
   ]
  },
  {
   "cell_type": "code",
   "execution_count": 44,
   "id": "b114895f",
   "metadata": {},
   "outputs": [
    {
     "name": "stdout",
     "output_type": "stream",
     "text": [
      "Accuracy:  1.0\n"
     ]
    }
   ],
   "source": [
    "model_petal.predict(x_train2, y_train2, accuracy = True, output = False)"
   ]
  },
  {
   "cell_type": "markdown",
   "id": "4ae0a1ab",
   "metadata": {},
   "source": [
    "Now we make a plot of the solution obtained from the gradient descent highlighting the observations with the different classes. In it we can appreciate the correct adaptation to the data of the train set and the support vectors with hard margin"
   ]
  },
  {
   "cell_type": "code",
   "execution_count": 45,
   "id": "1042e898",
   "metadata": {
    "scrolled": false
   },
   "outputs": [
    {
     "name": "stderr",
     "output_type": "stream",
     "text": [
      "C:\\Users\\dani_\\anaconda3\\envs\\r4-base\\lib\\site-packages\\seaborn\\_decorators.py:36: FutureWarning: Pass the following variables as keyword args: x, y. From version 0.12, the only valid positional argument will be `data`, and passing other arguments without an explicit keyword will result in an error or misinterpretation.\n",
      "  warnings.warn(\n"
     ]
    },
    {
     "data": {
      "image/png": "[encoded data removed]",
      "text/plain": [
       "<Figure size 432x288 with 1 Axes>"
      ]
     },
     "metadata": {
      "needs_background": "light"
     },
     "output_type": "display_data"
    }
   ],
   "source": [
    "z = np.arange(0,6)\n",
    "w = model_petal.w\n",
    "\n",
    "plt.plot(z, -(w[0] + w[1]*z)/w[2], color = \"darkblue\", alpha = 0.8 )\n",
    "plt.plot(z, -(w[0] + - 1 + w[1]*z)/w[2], \"--\", color = \"darkblue\", alpha = 0.8 )\n",
    "plt.plot(z, -(w[0] + 1 + w[1]*z)/w[2], \"--\", color = \"darkblue\", alpha = 0.8 )\n",
    "\n",
    "sns.scatterplot(model_petal.x[:,1], model_petal.x[:,2], hue = y_train2, alpha = 0.6, palette = [\"red\", \"green\"])\n",
    "\n",
    "plt.show()"
   ]
  },
  {
   "cell_type": "markdown",
   "id": "fe99d6ad",
   "metadata": {},
   "source": [
    "## Stochastic and mini-batch Gradient Descent"
   ]
  },
  {
   "cell_type": "markdown",
   "id": "a13dfdc9",
   "metadata": {},
   "source": [
    "We now want to verify the results obtained with stochatic gradient descent and micro-batch gradient descent.  \n",
    "We set a starting point with which to evaluate the different models without randomness"
   ]
  },
  {
   "cell_type": "code",
   "execution_count": 50,
   "id": "7909c2ea",
   "metadata": {},
   "outputs": [],
   "source": [
    "dummy_weights = [1,1,1,1,1]"
   ]
  },
  {
   "cell_type": "markdown",
   "id": "7236577f",
   "metadata": {},
   "source": [
    "The stochastic gradient descent offers a particularly oscillating pattern. Updating the vector $w$ due individually to each point leads to less stable variation, particularly in the values $\\|w\\|$"
   ]
  },
  {
   "cell_type": "code",
   "execution_count": 51,
   "id": "0cd32683",
   "metadata": {
    "scrolled": false
   },
   "outputs": [
    {
     "data": {
      "image/png": "[encoded data removed]",
      "text/plain": [
       "<Figure size 432x288 with 1 Axes>"
      ]
     },
     "metadata": {
      "needs_background": "light"
     },
     "output_type": "display_data"
    },
    {
     "data": {
      "image/png": "[encoded data removed]",
      "text/plain": [
       "<Figure size 432x288 with 1 Axes>"
      ]
     },
     "metadata": {
      "needs_background": "light"
     },
     "output_type": "display_data"
    },
    {
     "name": "stdout",
     "output_type": "stream",
     "text": [
      "[ 0.74781111 -0.3883707   0.36259742 -0.16135046  0.57041684]\n"
     ]
    }
   ],
   "source": [
    "model4 = svm(x_train, y_train, dummy_weights)\n",
    "print(model4.gradient_descent(nint = 1, batch_size = 1, eta = 0.0005))"
   ]
  },
  {
   "cell_type": "markdown",
   "id": "d80e0750",
   "metadata": {},
   "source": [
    "Increasing the dimension of the \"batch\" the descent of the function of cost turns out to be more stable"
   ]
  },
  {
   "cell_type": "code",
   "execution_count": 52,
   "id": "7ca76452",
   "metadata": {
    "scrolled": false
   },
   "outputs": [
    {
     "data": {
      "image/png": "[encoded data removed]",
      "text/plain": [
       "<Figure size 432x288 with 1 Axes>"
      ]
     },
     "metadata": {
      "needs_background": "light"
     },
     "output_type": "display_data"
    },
    {
     "data": {
      "image/png": "[encoded data removed]",
      "text/plain": [
       "<Figure size 432x288 with 1 Axes>"
      ]
     },
     "metadata": {
      "needs_background": "light"
     },
     "output_type": "display_data"
    },
    {
     "name": "stdout",
     "output_type": "stream",
     "text": [
      "[ 0.74355797 -0.39615285  0.35073778 -0.17015706  0.55686987]\n"
     ]
    }
   ],
   "source": [
    "model4 = svm(x_train, y_train, dummy_weights)\n",
    "print(model4.gradient_descent(nint = 10, batch_size = 10, eta = 0.0005))"
   ]
  },
  {
   "cell_type": "markdown",
   "id": "e26e81a5",
   "metadata": {},
   "source": [
    "With a batch size of half the train set it is possible to achieve a stability comparable to that of the batch gradient descent."
   ]
  },
  {
   "cell_type": "code",
   "execution_count": 53,
   "id": "ac43a4ea",
   "metadata": {
    "scrolled": false
   },
   "outputs": [
    {
     "data": {
      "image/png": "[encoded data removed]",
      "text/plain": [
       "<Figure size 432x288 with 1 Axes>"
      ]
     },
     "metadata": {
      "needs_background": "light"
     },
     "output_type": "display_data"
    },
    {
     "data": {
      "image/png": "[encoded data removed]",
      "text/plain": [
       "<Figure size 432x288 with 1 Axes>"
      ]
     },
     "metadata": {
      "needs_background": "light"
     },
     "output_type": "display_data"
    },
    {
     "name": "stdout",
     "output_type": "stream",
     "text": [
      "[ 0.75908953 -0.38509189  0.35373675 -0.12320255  0.58962923]\n"
     ]
    }
   ],
   "source": [
    "model4 = svm(x_train, y_train, dummy_weights)\n",
    "print(model4.gradient_descent(nint = 30, batch_size = 50, eta = 0.0005))"
   ]
  },
  {
   "cell_type": "markdown",
   "id": "f0c80861",
   "metadata": {},
   "source": [
    "Comparing the values of the vector $w$ obtained with the batch gradient descent method we can see that the values tend to be equal "
   ]
  },
  {
   "cell_type": "code",
   "execution_count": 54,
   "id": "4cd9e185",
   "metadata": {},
   "outputs": [
    {
     "name": "stdout",
     "output_type": "stream",
     "text": [
      "Accuracy:  1.0\n"
     ]
    }
   ],
   "source": [
    "model4 = svm(x_train, y_train, dummy_weights)\n",
    "model4.gradient_descent(batch_size = 10, nint = 100, plot = False)\n",
    "model4.predict(x_test, y_test, accuracy = True, output = False)"
   ]
  },
  {
   "cell_type": "code",
   "execution_count": 55,
   "id": "17304f38",
   "metadata": {},
   "outputs": [
    {
     "name": "stdout",
     "output_type": "stream",
     "text": [
      "SGD: [ 0.04691296  0.07430214  0.24661098 -0.38848987 -0.17002665]\n",
      "BGD: [ 0.04634437  0.07194583  0.24325662 -0.38414836 -0.16705861]\n"
     ]
    }
   ],
   "source": [
    "print(f\"SGD: {model4.w}\")\n",
    "print(f\"BGD: {model1.w}\")"
   ]
  },
  {
   "cell_type": "markdown",
   "id": "81488113",
   "metadata": {},
   "source": [
    "## Simulate Annealing "
   ]
  },
  {
   "cell_type": "markdown",
   "id": "e5d74afa",
   "metadata": {},
   "source": [
    "### Application on Iris dataset"
   ]
  },
  {
   "cell_type": "markdown",
   "id": "4de59afc",
   "metadata": {},
   "source": [
    "We now apply the search for the minimum of the cost function with the constructed metaheuristic"
   ]
  },
  {
   "cell_type": "code",
   "execution_count": 56,
   "id": "873608e4",
   "metadata": {},
   "outputs": [],
   "source": [
    "sim_ann = meta(x_train, y_train)"
   ]
  },
  {
   "cell_type": "code",
   "execution_count": 57,
   "id": "4713ec45",
   "metadata": {},
   "outputs": [
    {
     "data": {
      "text/plain": [
       "{'Solution': array([-0.23870495,  0.26075358, -0.14553379, -0.35485763, -0.31089433]),\n",
       " 'Cost': 0.5050021477459877}"
      ]
     },
     "execution_count": 57,
     "metadata": {},
     "output_type": "execute_result"
    },
    {
     "data": {
      "image/png": "[encoded data removed]",
      "text/plain": [
       "<Figure size 432x288 with 1 Axes>"
      ]
     },
     "metadata": {
      "needs_background": "light"
     },
     "output_type": "display_data"
    }
   ],
   "source": [
    "res = sim_ann.sim_ann(T = 20, nint = 250, bound = [-2,2])\n",
    "res"
   ]
  },
  {
   "cell_type": "markdown",
   "id": "7c9ffc35",
   "metadata": {},
   "source": [
    "After a certain number of iterations the reduction of the temperature leads to a probability so reduced to allow shifts closer and closer to the optimal point found"
   ]
  },
  {
   "cell_type": "code",
   "execution_count": 58,
   "id": "4cdb796a",
   "metadata": {
    "scrolled": true
   },
   "outputs": [
    {
     "data": {
      "text/plain": [
       "0.5050021477459877"
      ]
     },
     "execution_count": 58,
     "metadata": {},
     "output_type": "execute_result"
    }
   ],
   "source": [
    "sim_ann.cost()"
   ]
  },
  {
   "cell_type": "markdown",
   "id": "9c3f3e13",
   "metadata": {},
   "source": [
    "To verify the goodness of the point found we define a model svm using as initial point the vector just computed and we evaluate the accuracy on the test set"
   ]
  },
  {
   "cell_type": "code",
   "execution_count": 59,
   "id": "669f0170",
   "metadata": {
    "scrolled": true
   },
   "outputs": [],
   "source": [
    "model_sim = svm(x_train, y_train, res[\"Solution\"])"
   ]
  },
  {
   "cell_type": "code",
   "execution_count": 60,
   "id": "c1b53be5",
   "metadata": {},
   "outputs": [
    {
     "name": "stdout",
     "output_type": "stream",
     "text": [
      "Accuracy:  0.8\n"
     ]
    }
   ],
   "source": [
    "model_sim.predict(x_test, y_test, accuracy = True, output = False)"
   ]
  },
  {
   "cell_type": "markdown",
   "id": "e9cb789c",
   "metadata": {},
   "source": [
    "The accuracy result indicates the goodness of the point found. "
   ]
  },
  {
   "cell_type": "markdown",
   "id": "62917572",
   "metadata": {},
   "source": [
    "It can now be used the gradient descent in order to estimate how much is minimizable ulteriorly the function of cost regarding the simulated annealing"
   ]
  },
  {
   "cell_type": "code",
   "execution_count": 61,
   "id": "35c999ca",
   "metadata": {},
   "outputs": [
    {
     "data": {
      "image/png": "[encoded data removed]",
      "text/plain": [
       "<Figure size 432x288 with 1 Axes>"
      ]
     },
     "metadata": {
      "needs_background": "light"
     },
     "output_type": "display_data"
    },
    {
     "data": {
      "image/png": "[encoded data removed]",
      "text/plain": [
       "<Figure size 432x288 with 1 Axes>"
      ]
     },
     "metadata": {
      "needs_background": "light"
     },
     "output_type": "display_data"
    },
    {
     "data": {
      "text/plain": [
       "array([-0.04900851,  0.16474681,  0.14698988, -0.40506686, -0.23313845])"
      ]
     },
     "execution_count": 61,
     "metadata": {},
     "output_type": "execute_result"
    }
   ],
   "source": [
    "model_sim.gradient_descent(nint = 100)"
   ]
  },
  {
   "cell_type": "code",
   "execution_count": 62,
   "id": "8ee2cc55",
   "metadata": {},
   "outputs": [
    {
     "name": "stdout",
     "output_type": "stream",
     "text": [
      "Accuracy:  1.0\n"
     ]
    }
   ],
   "source": [
    "model_sim.predict(x_test, y_test, accuracy = True, output = False)"
   ]
  },
  {
   "cell_type": "markdown",
   "id": "6ccff2d1",
   "metadata": {},
   "source": [
    "To verify the reduction of the cost of exploits the method `cost`."
   ]
  },
  {
   "cell_type": "code",
   "execution_count": 63,
   "id": "70a5f601",
   "metadata": {},
   "outputs": [
    {
     "data": {
      "text/plain": [
       "0.20978223580177097"
      ]
     },
     "execution_count": 63,
     "metadata": {},
     "output_type": "execute_result"
    }
   ],
   "source": [
    "meta(x_train, y_train).cost(model_sim.w)"
   ]
  },
  {
   "cell_type": "markdown",
   "id": "47c698db",
   "metadata": {},
   "source": [
    "However, the vector values are similar in the two different cases."
   ]
  },
  {
   "cell_type": "code",
   "execution_count": 64,
   "id": "8df755ac",
   "metadata": {},
   "outputs": [
    {
     "name": "stdout",
     "output_type": "stream",
     "text": [
      "[-0.23870495  0.26075358 -0.14553379 -0.35485763 -0.31089433]\n",
      "[-0.04900851  0.16474681  0.14698988 -0.40506686 -0.23313845]\n"
     ]
    }
   ],
   "source": [
    "print(res[\"Solution\"])\n",
    "print(model_sim.w)"
   ]
  }
 ],
 "metadata": {
  "authors": [
   {
    "name": "Daniele Carmine Rizzo, MAT. 872359"
   }
  ],
  "kernelspec": {
   "display_name": "Python 3",
   "language": "python",
   "name": "python3"
  },
  "language_info": {
   "codemirror_mode": {
    "name": "ipython",
    "version": 3
   },
   "file_extension": ".py",
   "mimetype": "text/x-python",
   "name": "python",
   "nbconvert_exporter": "python",
   "pygments_lexer": "ipython3",
   "version": "3.9.2"
  }
 },
 "nbformat": 4,
 "nbformat_minor": 5
}
